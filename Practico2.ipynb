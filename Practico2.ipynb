{
 "cells": [
  {
   "cell_type": "markdown",
   "metadata": {},
   "source": [
    "# Practico 2 - Redes Bayesianas y Estimación de distribuciones continuas.\n",
    "\n",
    "El objetivo de esta notebook es implementar las redes bayesianas sobre el dataset de Tennis y continuar explorando formas de estimar distribuciones pero esta vez sobre datos continuos. "
   ]
  },
  {
   "cell_type": "markdown",
   "metadata": {},
   "source": [
    "## Parte 1: Redes Bayesianas"
   ]
  },
  {
   "cell_type": "markdown",
   "metadata": {},
   "source": [
    "## Imports"
   ]
  },
  {
   "cell_type": "code",
   "execution_count": 1,
   "metadata": {},
   "outputs": [
    {
     "name": "stdout",
     "output_type": "stream",
     "text": [
      "Collecting pgmpy\n",
      "  Downloading pgmpy-1.0.0-py3-none-any.whl.metadata (9.4 kB)\n",
      "Requirement already satisfied: networkx in /opt/anaconda3/envs/taller_dl/lib/python3.10/site-packages (from pgmpy) (3.4.2)\n",
      "Requirement already satisfied: numpy in /opt/anaconda3/envs/taller_dl/lib/python3.10/site-packages (from pgmpy) (2.1.3)\n",
      "Requirement already satisfied: scipy in /opt/anaconda3/envs/taller_dl/lib/python3.10/site-packages (from pgmpy) (1.14.1)\n",
      "Requirement already satisfied: scikit-learn in /opt/anaconda3/envs/taller_dl/lib/python3.10/site-packages (from pgmpy) (1.5.2)\n",
      "Requirement already satisfied: pandas in /opt/anaconda3/envs/taller_dl/lib/python3.10/site-packages (from pgmpy) (2.2.3)\n",
      "Requirement already satisfied: torch in /opt/anaconda3/envs/taller_dl/lib/python3.10/site-packages (from pgmpy) (2.5.1)\n",
      "Collecting statsmodels (from pgmpy)\n",
      "  Downloading statsmodels-0.14.5-cp310-cp310-macosx_11_0_arm64.whl.metadata (9.5 kB)\n",
      "Requirement already satisfied: tqdm in /opt/anaconda3/envs/taller_dl/lib/python3.10/site-packages (from pgmpy) (4.67.1)\n",
      "Requirement already satisfied: joblib in /opt/anaconda3/envs/taller_dl/lib/python3.10/site-packages (from pgmpy) (1.4.2)\n",
      "Collecting opt-einsum (from pgmpy)\n",
      "  Downloading opt_einsum-3.4.0-py3-none-any.whl.metadata (6.3 kB)\n",
      "Collecting pyro-ppl (from pgmpy)\n",
      "  Downloading pyro_ppl-1.9.1-py3-none-any.whl.metadata (7.8 kB)\n",
      "Requirement already satisfied: python-dateutil>=2.8.2 in /opt/anaconda3/envs/taller_dl/lib/python3.10/site-packages (from pandas->pgmpy) (2.9.0.post0)\n",
      "Requirement already satisfied: pytz>=2020.1 in /opt/anaconda3/envs/taller_dl/lib/python3.10/site-packages (from pandas->pgmpy) (2024.2)\n",
      "Requirement already satisfied: tzdata>=2022.7 in /opt/anaconda3/envs/taller_dl/lib/python3.10/site-packages (from pandas->pgmpy) (2024.2)\n",
      "Collecting pyro-api>=0.1.1 (from pyro-ppl->pgmpy)\n",
      "  Downloading pyro_api-0.1.2-py3-none-any.whl.metadata (2.5 kB)\n",
      "Requirement already satisfied: filelock in /opt/anaconda3/envs/taller_dl/lib/python3.10/site-packages (from torch->pgmpy) (3.16.1)\n",
      "Requirement already satisfied: typing-extensions>=4.8.0 in /opt/anaconda3/envs/taller_dl/lib/python3.10/site-packages (from torch->pgmpy) (4.12.2)\n",
      "Requirement already satisfied: jinja2 in /opt/anaconda3/envs/taller_dl/lib/python3.10/site-packages (from torch->pgmpy) (3.1.4)\n",
      "Requirement already satisfied: fsspec in /opt/anaconda3/envs/taller_dl/lib/python3.10/site-packages (from torch->pgmpy) (2024.10.0)\n",
      "Requirement already satisfied: sympy==1.13.1 in /opt/anaconda3/envs/taller_dl/lib/python3.10/site-packages (from torch->pgmpy) (1.13.1)\n",
      "Requirement already satisfied: mpmath<1.4,>=1.1.0 in /opt/anaconda3/envs/taller_dl/lib/python3.10/site-packages (from sympy==1.13.1->torch->pgmpy) (1.3.0)\n",
      "Requirement already satisfied: threadpoolctl>=3.1.0 in /opt/anaconda3/envs/taller_dl/lib/python3.10/site-packages (from scikit-learn->pgmpy) (3.5.0)\n",
      "Collecting patsy>=0.5.6 (from statsmodels->pgmpy)\n",
      "  Downloading patsy-1.0.1-py2.py3-none-any.whl.metadata (3.3 kB)\n",
      "Requirement already satisfied: packaging>=21.3 in /opt/anaconda3/envs/taller_dl/lib/python3.10/site-packages (from statsmodels->pgmpy) (24.2)\n",
      "Requirement already satisfied: six>=1.5 in /opt/anaconda3/envs/taller_dl/lib/python3.10/site-packages (from python-dateutil>=2.8.2->pandas->pgmpy) (1.17.0)\n",
      "Requirement already satisfied: MarkupSafe>=2.0 in /opt/anaconda3/envs/taller_dl/lib/python3.10/site-packages (from jinja2->torch->pgmpy) (3.0.2)\n",
      "Downloading pgmpy-1.0.0-py3-none-any.whl (2.0 MB)\n",
      "\u001b[2K   \u001b[38;2;114;156;31m━━━━━━━━━━━━━━━━━━━━━━━━━━━━━━━━━━━━━━━━\u001b[0m \u001b[32m2.0/2.0 MB\u001b[0m \u001b[31m4.9 MB/s\u001b[0m eta \u001b[36m0:00:00\u001b[0m MB/s\u001b[0m eta \u001b[36m0:00:01\u001b[0m\n",
      "\u001b[?25hDownloading opt_einsum-3.4.0-py3-none-any.whl (71 kB)\n",
      "Downloading pyro_ppl-1.9.1-py3-none-any.whl (755 kB)\n",
      "\u001b[2K   \u001b[38;2;114;156;31m━━━━━━━━━━━━━━━━━━━━━━━━━━━━━━━━━━━━━━━━\u001b[0m \u001b[32m756.0/756.0 kB\u001b[0m \u001b[31m6.3 MB/s\u001b[0m eta \u001b[36m0:00:00\u001b[0m\n",
      "\u001b[?25hDownloading statsmodels-0.14.5-cp310-cp310-macosx_11_0_arm64.whl (9.7 MB)\n",
      "\u001b[2K   \u001b[38;2;114;156;31m━━━━━━━━━━━━━━━━━━━━━━━━━━━━━━━━━━━━━━━━\u001b[0m \u001b[32m9.7/9.7 MB\u001b[0m \u001b[31m5.7 MB/s\u001b[0m eta \u001b[36m0:00:00\u001b[0m[31m5.8 MB/s\u001b[0m eta \u001b[36m0:00:01\u001b[0m\n",
      "\u001b[?25hDownloading patsy-1.0.1-py2.py3-none-any.whl (232 kB)\n",
      "Downloading pyro_api-0.1.2-py3-none-any.whl (11 kB)\n",
      "Installing collected packages: pyro-api, patsy, opt-einsum, statsmodels, pyro-ppl, pgmpy\n",
      "Successfully installed opt-einsum-3.4.0 patsy-1.0.1 pgmpy-1.0.0 pyro-api-0.1.2 pyro-ppl-1.9.1 statsmodels-0.14.5\n"
     ]
    }
   ],
   "source": [
    "!pip install pgmpy"
   ]
  },
  {
   "cell_type": "code",
   "execution_count": 1,
   "metadata": {},
   "outputs": [
    {
     "name": "stderr",
     "output_type": "stream",
     "text": [
      "/opt/anaconda3/envs/taller_dl/lib/python3.10/site-packages/tqdm/auto.py:21: TqdmWarning: IProgress not found. Please update jupyter and ipywidgets. See https://ipywidgets.readthedocs.io/en/stable/user_install.html\n",
      "  from .autonotebook import tqdm as notebook_tqdm\n"
     ]
    }
   ],
   "source": [
    "import pandas as pd\n",
    "import networkx as nx\n",
    "import matplotlib.pyplot as plt\n",
    "from pgmpy.models import DiscreteBayesianNetwork\n",
    "from pgmpy.estimators import MaximumLikelihoodEstimator\n",
    "from pgmpy.inference import VariableElimination"
   ]
  },
  {
   "cell_type": "markdown",
   "metadata": {},
   "source": [
    "### Paso 1: Cargar los Datos y Construir el Modelo"
   ]
  },
  {
   "cell_type": "code",
   "execution_count": 2,
   "metadata": {},
   "outputs": [
    {
     "data": {
      "text/html": [
       "<div>\n",
       "<style scoped>\n",
       "    .dataframe tbody tr th:only-of-type {\n",
       "        vertical-align: middle;\n",
       "    }\n",
       "\n",
       "    .dataframe tbody tr th {\n",
       "        vertical-align: top;\n",
       "    }\n",
       "\n",
       "    .dataframe thead th {\n",
       "        text-align: right;\n",
       "    }\n",
       "</style>\n",
       "<table border=\"1\" class=\"dataframe\">\n",
       "  <thead>\n",
       "    <tr style=\"text-align: right;\">\n",
       "      <th></th>\n",
       "      <th>Day</th>\n",
       "      <th>Outlook</th>\n",
       "      <th>Temp</th>\n",
       "      <th>Humidity</th>\n",
       "      <th>Wind</th>\n",
       "      <th>Tennis</th>\n",
       "    </tr>\n",
       "  </thead>\n",
       "  <tbody>\n",
       "    <tr>\n",
       "      <th>0</th>\n",
       "      <td>D1</td>\n",
       "      <td>Sunny</td>\n",
       "      <td>Hot</td>\n",
       "      <td>High</td>\n",
       "      <td>Weak</td>\n",
       "      <td>No</td>\n",
       "    </tr>\n",
       "    <tr>\n",
       "      <th>1</th>\n",
       "      <td>D2</td>\n",
       "      <td>Sunny</td>\n",
       "      <td>Hot</td>\n",
       "      <td>High</td>\n",
       "      <td>Strong</td>\n",
       "      <td>No</td>\n",
       "    </tr>\n",
       "    <tr>\n",
       "      <th>2</th>\n",
       "      <td>D3</td>\n",
       "      <td>Overcast</td>\n",
       "      <td>Hot</td>\n",
       "      <td>High</td>\n",
       "      <td>Weak</td>\n",
       "      <td>Yes</td>\n",
       "    </tr>\n",
       "    <tr>\n",
       "      <th>3</th>\n",
       "      <td>D4</td>\n",
       "      <td>Rain</td>\n",
       "      <td>Mild</td>\n",
       "      <td>High</td>\n",
       "      <td>Weak</td>\n",
       "      <td>Yes</td>\n",
       "    </tr>\n",
       "    <tr>\n",
       "      <th>4</th>\n",
       "      <td>D5</td>\n",
       "      <td>Rain</td>\n",
       "      <td>Cool</td>\n",
       "      <td>Normal</td>\n",
       "      <td>Weak</td>\n",
       "      <td>Yes</td>\n",
       "    </tr>\n",
       "  </tbody>\n",
       "</table>\n",
       "</div>"
      ],
      "text/plain": [
       "  Day   Outlook  Temp Humidity    Wind Tennis\n",
       "0  D1     Sunny   Hot     High    Weak     No\n",
       "1  D2     Sunny   Hot     High  Strong     No\n",
       "2  D3  Overcast   Hot     High    Weak    Yes\n",
       "3  D4      Rain  Mild     High    Weak    Yes\n",
       "4  D5      Rain  Cool   Normal    Weak    Yes"
      ]
     },
     "execution_count": 2,
     "metadata": {},
     "output_type": "execute_result"
    }
   ],
   "source": [
    "# Cargar los datos\n",
    "data = pd.read_csv('./tennis.csv')\n",
    "data.head()"
   ]
  },
  {
   "cell_type": "markdown",
   "metadata": {},
   "source": [
    "Definimos variables aleatorias que vamos a usar. Por simplicidad en la visualización solo usaremos 3, pero puede usar todas las que quiera."
   ]
  },
  {
   "cell_type": "code",
   "execution_count": 3,
   "metadata": {},
   "outputs": [],
   "source": [
    "outlook = 'Outlook'\n",
    "temp = 'Temp'\n",
    "wind = 'Wind'\n",
    "tennis = 'Tennis'\n",
    "\n",
    "data = data[[outlook, temp, tennis]]"
   ]
  },
  {
   "cell_type": "markdown",
   "metadata": {},
   "source": [
    "Tenemos que definir las relaciones condicionales que hay entre estas variables, para eso vamos a definir las siguientes relaciones: \n",
    "\n",
    "- Tennis depende de Outlook\n",
    "- Tennis depende de Temp"
   ]
  },
  {
   "cell_type": "code",
   "execution_count": 4,
   "metadata": {},
   "outputs": [],
   "source": [
    "relations = [(outlook, tennis), (temp, tennis)]"
   ]
  },
  {
   "cell_type": "markdown",
   "metadata": {},
   "source": [
    "Teniendo las relaciones vamos a crear nuestro modelo!"
   ]
  },
  {
   "cell_type": "code",
   "execution_count": 5,
   "metadata": {},
   "outputs": [],
   "source": [
    "model = DiscreteBayesianNetwork(relations)"
   ]
  },
  {
   "cell_type": "markdown",
   "metadata": {},
   "source": [
    "Ahora que tenemos el modelo vamos a ajustarlo para que capture las probabilidades condicionales en las observaciones."
   ]
  },
  {
   "cell_type": "code",
   "execution_count": 7,
   "metadata": {},
   "outputs": [
    {
     "name": "stderr",
     "output_type": "stream",
     "text": [
      "INFO:pgmpy: Datatype (N=numerical, C=Categorical Unordered, O=Categorical Ordered) inferred from data: \n",
      " {'Outlook': 'C', 'Temp': 'C', 'Tennis': 'C'}\n"
     ]
    },
    {
     "data": {
      "text/plain": [
       "<pgmpy.models.DiscreteBayesianNetwork.DiscreteBayesianNetwork at 0x1641e0850>"
      ]
     },
     "execution_count": 7,
     "metadata": {},
     "output_type": "execute_result"
    }
   ],
   "source": [
    "# Aprender los CPDs desde los datos\n",
    "model.fit(data, estimator=MaximumLikelihoodEstimator)"
   ]
  },
  {
   "cell_type": "markdown",
   "metadata": {},
   "source": [
    "Verificamos si el modelo es valido."
   ]
  },
  {
   "cell_type": "code",
   "execution_count": 8,
   "metadata": {},
   "outputs": [
    {
     "data": {
      "text/plain": [
       "True"
      ]
     },
     "execution_count": 8,
     "metadata": {},
     "output_type": "execute_result"
    }
   ],
   "source": [
    "model.check_model()"
   ]
  },
  {
   "cell_type": "markdown",
   "metadata": {},
   "source": [
    "### Paso 2: Visualización del Grafo y CPDs"
   ]
  },
  {
   "cell_type": "code",
   "execution_count": 9,
   "metadata": {},
   "outputs": [],
   "source": [
    "def visualize_graph(model):\n",
    "    G = nx.DiGraph()\n",
    "    G.add_edges_from(model.edges())\n",
    "    plt.figure(figsize=(7, 5))\n",
    "    pos = nx.spring_layout(G)\n",
    "    nx.draw(G, pos, with_labels=True, node_size=10000, node_color=\"skyblue\", font_size=10, font_weight=\"bold\", arrowsize=30)\n",
    "    plt.title(\"Red Bayesiana del Dataset de Tenis\")\n",
    "    plt.show()"
   ]
  },
  {
   "cell_type": "code",
   "execution_count": 10,
   "metadata": {},
   "outputs": [
    {
     "data": {
      "image/png": "[encoded data removed]",
      "text/plain": [
       "<Figure size 700x500 with 1 Axes>"
      ]
     },
     "metadata": {},
     "output_type": "display_data"
    }
   ],
   "source": [
    "visualize_graph(model)"
   ]
  },
  {
   "cell_type": "code",
   "execution_count": 11,
   "metadata": {},
   "outputs": [
    {
     "name": "stdout",
     "output_type": "stream",
     "text": [
      "CPD de Outlook:\n",
      "+-------------------+----------+\n",
      "| Outlook(Overcast) | 0.285714 |\n",
      "+-------------------+----------+\n",
      "| Outlook(Rain)     | 0.357143 |\n",
      "+-------------------+----------+\n",
      "| Outlook(Sunny)    | 0.357143 |\n",
      "+-------------------+----------+\n",
      "CPD de Tennis:\n",
      "+-------------+-------------------+-----+----------------+----------------+\n",
      "| Outlook     | Outlook(Overcast) | ... | Outlook(Sunny) | Outlook(Sunny) |\n",
      "+-------------+-------------------+-----+----------------+----------------+\n",
      "| Temp        | Temp(Cool)        | ... | Temp(Hot)      | Temp(Mild)     |\n",
      "+-------------+-------------------+-----+----------------+----------------+\n",
      "| Tennis(No)  | 0.0               | ... | 1.0            | 0.5            |\n",
      "+-------------+-------------------+-----+----------------+----------------+\n",
      "| Tennis(Yes) | 1.0               | ... | 0.0            | 0.5            |\n",
      "+-------------+-------------------+-----+----------------+----------------+\n",
      "CPD de Temp:\n",
      "+------------+----------+\n",
      "| Temp(Cool) | 0.285714 |\n",
      "+------------+----------+\n",
      "| Temp(Hot)  | 0.285714 |\n",
      "+------------+----------+\n",
      "| Temp(Mild) | 0.428571 |\n",
      "+------------+----------+\n"
     ]
    }
   ],
   "source": [
    "for cpd in model.get_cpds():\n",
    "    print(f\"CPD de {cpd.variable}:\")\n",
    "    print(cpd)"
   ]
  },
  {
   "cell_type": "markdown",
   "metadata": {},
   "source": [
    "### Explicación:\n",
    "- **Estructura de la Red:** Los arcos en la red representan la relación de causa y efecto entre las variables. Aquí, las condiciones del clima influyen en la decisión de jugar tenis.\n",
    "- **CPDs:** Cada nodo tiene un CPD que describe la distribución de probabilidad condicional de la variable dada sus padres."
   ]
  },
  {
   "cell_type": "markdown",
   "metadata": {},
   "source": [
    "¿Por qué la tabla de Outlook y Temp solamente una columna mientras que la de Tennis tiene varias?\n",
    "\n",
    "¿Cuántas columnas tiene la de Tennis? ¿Por qué?"
   ]
  },
  {
   "cell_type": "code",
   "execution_count": 15,
   "metadata": {},
   "outputs": [
    {
     "name": "stdout",
     "output_type": "stream",
     "text": [
      "Variable: Outlook\n",
      "  Estados:\n",
      "    - Overcast\n",
      "    - Rain\n",
      "    - Sunny\n",
      "  Cardinalidad: 3\n",
      "\n",
      "Variable: Tennis\n",
      "  Estados:\n",
      "    - No\n",
      "    - Yes\n",
      "  Cardinalidad: 2\n",
      "\n",
      "Variable: Temp\n",
      "  Estados:\n",
      "    - Cool\n",
      "    - Hot\n",
      "    - Mild\n",
      "  Cardinalidad: 3\n",
      "\n"
     ]
    }
   ],
   "source": [
    "for cpd in model.get_cpds():\n",
    "    print(f\"Variable: {cpd.variable}\")\n",
    "    print(\"  Estados:\")\n",
    "    for state in cpd.state_names[cpd.variable]:\n",
    "        print(f\"    - {state}\")\n",
    "    print(f\"  Cardinalidad: {cpd.variable_card}\\n\")"
   ]
  },
  {
   "cell_type": "markdown",
   "metadata": {},
   "source": [
    "- **Cardinalidad:** Indica cuántos estados puede tener una variable."
   ]
  },
  {
   "cell_type": "markdown",
   "metadata": {},
   "source": [
    "### Paso 3: Inferencia en la Red\n",
    "\n",
    "**Inferencia:** Dado un conjunto de evidencias (ej. Outlook y Temp), la red calcula la probabilidad de que Tennis sea 'Yes' o 'No'."
   ]
  },
  {
   "cell_type": "code",
   "execution_count": 16,
   "metadata": {},
   "outputs": [
    {
     "name": "stdout",
     "output_type": "stream",
     "text": [
      "\n",
      "Resultado de la inferencia:\n",
      "+-------------+---------------+\n",
      "| Tennis      |   phi(Tennis) |\n",
      "+=============+===============+\n",
      "| Tennis(No)  |        0.5000 |\n",
      "+-------------+---------------+\n",
      "| Tennis(Yes) |        0.5000 |\n",
      "+-------------+---------------+\n"
     ]
    }
   ],
   "source": [
    "# Inferencia en la red bayesiana\n",
    "inferencia = VariableElimination(model)\n",
    "resultado = inferencia.query(variables=[tennis], evidence={outlook: 'Sunny', temp: 'Mild'})\n",
    "print(\"\\nResultado de la inferencia:\")\n",
    "print(resultado)"
   ]
  },
  {
   "cell_type": "markdown",
   "metadata": {},
   "source": [
    "### Ejercicios:\n",
    "1. Realice inferencias usando diferentes combinaciones de evidencias para observar cómo cambian las probabilidades.\n",
    "2. Cree otro modelo con diferentes relaciones y realice inferencias sobre este.\n",
    " Recuerde que puede agregar más variables (como por ej. Humudity o Wind)."
   ]
  },
  {
   "cell_type": "markdown",
   "metadata": {},
   "source": [
    "[nota del estudiante]: Crearemos a continuación otro modelo de inferencia, basándonos en las siguientes variables aleatorias: temperatura, outlook, y wind."
   ]
  },
  {
   "cell_type": "code",
   "execution_count": 18,
   "metadata": {},
   "outputs": [
    {
     "data": {
      "text/html": [
       "<div>\n",
       "<style scoped>\n",
       "    .dataframe tbody tr th:only-of-type {\n",
       "        vertical-align: middle;\n",
       "    }\n",
       "\n",
       "    .dataframe tbody tr th {\n",
       "        vertical-align: top;\n",
       "    }\n",
       "\n",
       "    .dataframe thead th {\n",
       "        text-align: right;\n",
       "    }\n",
       "</style>\n",
       "<table border=\"1\" class=\"dataframe\">\n",
       "  <thead>\n",
       "    <tr style=\"text-align: right;\">\n",
       "      <th></th>\n",
       "      <th>Outlook</th>\n",
       "      <th>Temp</th>\n",
       "      <th>Wind</th>\n",
       "      <th>Tennis</th>\n",
       "    </tr>\n",
       "  </thead>\n",
       "  <tbody>\n",
       "    <tr>\n",
       "      <th>0</th>\n",
       "      <td>Sunny</td>\n",
       "      <td>Hot</td>\n",
       "      <td>Weak</td>\n",
       "      <td>No</td>\n",
       "    </tr>\n",
       "    <tr>\n",
       "      <th>1</th>\n",
       "      <td>Sunny</td>\n",
       "      <td>Hot</td>\n",
       "      <td>Strong</td>\n",
       "      <td>No</td>\n",
       "    </tr>\n",
       "    <tr>\n",
       "      <th>2</th>\n",
       "      <td>Overcast</td>\n",
       "      <td>Hot</td>\n",
       "      <td>Weak</td>\n",
       "      <td>Yes</td>\n",
       "    </tr>\n",
       "    <tr>\n",
       "      <th>3</th>\n",
       "      <td>Rain</td>\n",
       "      <td>Mild</td>\n",
       "      <td>Weak</td>\n",
       "      <td>Yes</td>\n",
       "    </tr>\n",
       "    <tr>\n",
       "      <th>4</th>\n",
       "      <td>Rain</td>\n",
       "      <td>Cool</td>\n",
       "      <td>Weak</td>\n",
       "      <td>Yes</td>\n",
       "    </tr>\n",
       "  </tbody>\n",
       "</table>\n",
       "</div>"
      ],
      "text/plain": [
       "    Outlook  Temp    Wind Tennis\n",
       "0     Sunny   Hot    Weak     No\n",
       "1     Sunny   Hot  Strong     No\n",
       "2  Overcast   Hot    Weak    Yes\n",
       "3      Rain  Mild    Weak    Yes\n",
       "4      Rain  Cool    Weak    Yes"
      ]
     },
     "execution_count": 18,
     "metadata": {},
     "output_type": "execute_result"
    }
   ],
   "source": [
    "# 1. Ajustamos nuestra fuente de datos para que solo contenga las variables Outlook, Temp, Wind y Tennis.\n",
    "data = pd.read_csv('./tennis.csv')\n",
    "\n",
    "# Definimos las variables de interés\n",
    "outlook = 'Outlook'\n",
    "temp = 'Temp'\n",
    "wind = 'Wind'\n",
    "tennis = 'Tennis'\n",
    "\n",
    "# Actualizamos nuestra fuente de datos para que solo contenga las variables seleccionadas\n",
    "data = data[[outlook, temp, wind, tennis]]\n",
    "data.head()"
   ]
  },
  {
   "cell_type": "code",
   "execution_count": 19,
   "metadata": {},
   "outputs": [
    {
     "name": "stderr",
     "output_type": "stream",
     "text": [
      "INFO:pgmpy: Datatype (N=numerical, C=Categorical Unordered, O=Categorical Ordered) inferred from data: \n",
      " {'Outlook': 'C', 'Temp': 'C', 'Wind': 'C', 'Tennis': 'C'}\n"
     ]
    },
    {
     "data": {
      "text/plain": [
       "True"
      ]
     },
     "execution_count": 19,
     "metadata": {},
     "output_type": "execute_result"
    }
   ],
   "source": [
    "# 2. Definimos las relaciones entre las variables en la red bayesiana.\n",
    "relations = [(outlook, tennis), (temp, tennis), (wind, tennis)]\n",
    "model = DiscreteBayesianNetwork(relations)\n",
    "model.fit(data, estimator=MaximumLikelihoodEstimator)\n",
    "model.check_model()"
   ]
  },
  {
   "cell_type": "code",
   "execution_count": 20,
   "metadata": {},
   "outputs": [
    {
     "data": {
      "image/png": "[encoded data removed]",
      "text/plain": [
       "<Figure size 700x500 with 1 Axes>"
      ]
     },
     "metadata": {},
     "output_type": "display_data"
    }
   ],
   "source": [
    "# 3. Visualizamos la nueva red bayesiana.\n",
    "visualize_graph(model)"
   ]
  },
  {
   "cell_type": "code",
   "execution_count": 21,
   "metadata": {},
   "outputs": [
    {
     "name": "stdout",
     "output_type": "stream",
     "text": [
      "CPD de Outlook:\n",
      "+-------------------+----------+\n",
      "| Outlook(Overcast) | 0.285714 |\n",
      "+-------------------+----------+\n",
      "| Outlook(Rain)     | 0.357143 |\n",
      "+-------------------+----------+\n",
      "| Outlook(Sunny)    | 0.357143 |\n",
      "+-------------------+----------+\n",
      "CPD de Tennis:\n",
      "+-------------+-------------------+-----+----------------+----------------+\n",
      "| Outlook     | Outlook(Overcast) | ... | Outlook(Sunny) | Outlook(Sunny) |\n",
      "+-------------+-------------------+-----+----------------+----------------+\n",
      "| Temp        | Temp(Cool)        | ... | Temp(Mild)     | Temp(Mild)     |\n",
      "+-------------+-------------------+-----+----------------+----------------+\n",
      "| Wind        | Wind(Strong)      | ... | Wind(Strong)   | Wind(Weak)     |\n",
      "+-------------+-------------------+-----+----------------+----------------+\n",
      "| Tennis(No)  | 0.0               | ... | 0.0            | 1.0            |\n",
      "+-------------+-------------------+-----+----------------+----------------+\n",
      "| Tennis(Yes) | 1.0               | ... | 1.0            | 0.0            |\n",
      "+-------------+-------------------+-----+----------------+----------------+\n",
      "CPD de Temp:\n",
      "+------------+----------+\n",
      "| Temp(Cool) | 0.285714 |\n",
      "+------------+----------+\n",
      "| Temp(Hot)  | 0.285714 |\n",
      "+------------+----------+\n",
      "| Temp(Mild) | 0.428571 |\n",
      "+------------+----------+\n",
      "CPD de Wind:\n",
      "+--------------+----------+\n",
      "| Wind(Strong) | 0.428571 |\n",
      "+--------------+----------+\n",
      "| Wind(Weak)   | 0.571429 |\n",
      "+--------------+----------+\n"
     ]
    }
   ],
   "source": [
    "# 4. Mostramos los CPDs de la nueva red bayesiana.\n",
    "for cpd in model.get_cpds():\n",
    "    print(f\"CPD de {cpd.variable}:\")\n",
    "    print(cpd)"
   ]
  },
  {
   "cell_type": "code",
   "execution_count": 22,
   "metadata": {},
   "outputs": [
    {
     "name": "stdout",
     "output_type": "stream",
     "text": [
      "\n",
      "Resultado de la inferencia con las nuevas variables:\n",
      "+-------------+---------------+\n",
      "| Tennis      |   phi(Tennis) |\n",
      "+=============+===============+\n",
      "| Tennis(No)  |        1.0000 |\n",
      "+-------------+---------------+\n",
      "| Tennis(Yes) |        0.0000 |\n",
      "+-------------+---------------+\n"
     ]
    }
   ],
   "source": [
    "# 5. Realizamos una inferencia en la nueva red bayesiana.\n",
    "inferencia = VariableElimination(model)\n",
    "resultado = inferencia.query(variables=[tennis], evidence={outlook: 'Sunny', temp: 'Mild', wind: 'Weak'})\n",
    "print(\"\\nResultado de la inferencia con las nuevas variables:\")\n",
    "print(resultado)"
   ]
  },
  {
   "cell_type": "markdown",
   "metadata": {},
   "source": [
    "## Parte 2: Estimando distribuciones continuas.\n",
    "\n",
    "El objetivo de esta notebook es explorar una primera manera de aproximar $p(x|y)$ y $p(y|x)$ en un dataset tabular donde $x\\in\\mathbb{R}^k$ y el objetivo $y$ es una variable discreta y finita $y\\in\\{0,\\ldots,d\\}⊆\\mathbb{N}, d\\geq 1$."
   ]
  },
  {
   "cell_type": "markdown",
   "metadata": {},
   "source": [
    "### Imports"
   ]
  },
  {
   "cell_type": "code",
   "execution_count": null,
   "metadata": {},
   "outputs": [],
   "source": [
    "import numpy as np\n",
    "import seaborn as sns\n",
    "\n",
    "from sklearn import datasets\n",
    "from matplotlib import pyplot as plt"
   ]
  },
  {
   "cell_type": "markdown",
   "metadata": {},
   "source": [
    "### Cargamos el dataset"
   ]
  },
  {
   "cell_type": "code",
   "execution_count": null,
   "metadata": {},
   "outputs": [],
   "source": [
    "iris = datasets.load_iris()"
   ]
  },
  {
   "cell_type": "code",
   "execution_count": null,
   "metadata": {},
   "outputs": [],
   "source": [
    "iris.target_names"
   ]
  },
  {
   "cell_type": "code",
   "execution_count": null,
   "metadata": {},
   "outputs": [],
   "source": [
    "X = iris.data\n",
    "y = iris.target"
   ]
  },
  {
   "cell_type": "code",
   "execution_count": null,
   "metadata": {},
   "outputs": [],
   "source": [
    "iris_df = pd.DataFrame(data=X,\n",
    "             columns=iris.feature_names,\n",
    "             )\n",
    "\n",
    "iris_df"
   ]
  },
  {
   "cell_type": "markdown",
   "metadata": {},
   "source": [
    "Para simplificar el problema solo trabajaremos con una variable aleatoria.\n",
    "\n",
    "Filtramos el dataset por feature.\n",
    "\n",
    "feature_number puede ser 0, 1, 2, 3\n",
    "- 0 - sepal length (cm)\n",
    "- 1 - sepal width (cm)\n",
    "- 2 - petal length (cm)\n",
    "- 3 - petal width (cm)"
   ]
  },
  {
   "cell_type": "code",
   "execution_count": null,
   "metadata": {},
   "outputs": [],
   "source": [
    "feature_number = 0\n",
    "feature_name = iris.feature_names[feature_number]\n",
    "xfeature_original = X[:,feature_number]\n",
    "xfeature_original"
   ]
  },
  {
   "cell_type": "markdown",
   "metadata": {},
   "source": [
    "Como estamos trabajando con valores continuos, vamos a discretizarlos.\n",
    "\n",
    "Para ello, vamos a utilizar la funcion linspace de numpy, que nos permite dividir un rango en n partes iguales. https://numpy.org/doc/stable/reference/generated/numpy.linspace.html"
   ]
  },
  {
   "cell_type": "markdown",
   "metadata": {},
   "source": [
    "Hacemos el siguiente calculo para tener la cantidad de bins que deseamos ya que la librería siempre nos crea uno más."
   ]
  },
  {
   "cell_type": "code",
   "execution_count": null,
   "metadata": {},
   "outputs": [],
   "source": [
    "NBINS = 10\n",
    "bin_size = (np.max(xfeature_original) - np.min(xfeature_original)) / NBINS\n",
    "end = np.max(xfeature_original) - bin_size\n",
    "bins = np.linspace(start=np.min(xfeature_original), stop=end, num=NBINS)\n",
    "\n",
    "bins"
   ]
  },
  {
   "cell_type": "code",
   "execution_count": null,
   "metadata": {},
   "outputs": [],
   "source": [
    "xfeature_digitized = np.digitize(x=xfeature_original, bins=bins)\n",
    "xfeature_digitized"
   ]
  },
  {
   "cell_type": "markdown",
   "metadata": {},
   "source": [
    "### Aproximamos $p(x|y)$\n",
    "\n",
    "Para calcular la distribución $p (x | y)$ usamos *distplot kde* (Kernel Density Estimation) para cada clase con los datos originales (datos continuos y no los discretizados)."
   ]
  },
  {
   "cell_type": "markdown",
   "metadata": {},
   "source": [
    "Para este paso aprovechamos que el dataset esta ordenado por clase."
   ]
  },
  {
   "cell_type": "code",
   "execution_count": null,
   "metadata": {},
   "outputs": [],
   "source": [
    "pd_cats = pd.DataFrame(xfeature_original.flatten(), columns=['x'])\n",
    "pd_cats['cat'] = np.concatenate((np.full(50, 'setosa'),\n",
    "                                np.full(50, 'versicolor'),\n",
    "                                np.full(50, 'virginica')))\n",
    "sns.displot(\n",
    "    data=pd_cats, x='x', kind='kde',\n",
    "    hue='cat', fill=True\n",
    ")\n",
    "\n",
    "plt.title('p(x | y)')\n",
    "plt.show()"
   ]
  },
  {
   "cell_type": "markdown",
   "metadata": {},
   "source": [
    "¿Qué nos muestra esta gráfica?\n",
    "\n",
    "¿Qué conclusiones puede sacar?"
   ]
  },
  {
   "cell_type": "markdown",
   "metadata": {},
   "source": [
    "Ejercicio: Grafique un histograma para cada clase que nos muestre $p (bin| y = clase)$ utilizando los datos discretizados. Puede utilizar la función *np.histogram*. https://numpy.org/doc/stable/reference/generated/numpy.histogram.html\n",
    "\n",
    "Luego compare los histogramas con la gráfica de arriba sobre $p (x | y)$."
   ]
  },
  {
   "cell_type": "markdown",
   "metadata": {},
   "source": [
    "### Aproximamos $p(y|x)$\n",
    "\n",
    "Estime la probabilidad condicional de *y* dado *x* y luego muestree 10 valores de y dado que $x = 4.75$"
   ]
  },
  {
   "cell_type": "markdown",
   "metadata": {},
   "source": [
    "### Sampleamos sobre *p(x|y)*\n",
    "\n",
    "Realice una muestra de 50 valores de $x$ para cada valor de $y$. Recomendamos utilizar la función *gaussian_kde* de *scipy.stats*."
   ]
  },
  {
   "cell_type": "code",
   "execution_count": null,
   "metadata": {},
   "outputs": [],
   "source": [
    "from scipy.stats import gaussian_kde\n"
   ]
  },
  {
   "cell_type": "markdown",
   "metadata": {},
   "source": [
    "Grafique $p(x|y)$ utilizando los datos sampleados y compare con la gráfica de $p(x|y)$ creada con los datos originales."
   ]
  },
  {
   "cell_type": "code",
   "execution_count": null,
   "metadata": {},
   "outputs": [],
   "source": []
  },
  {
   "cell_type": "markdown",
   "metadata": {},
   "source": [
    "### Aproximamos la distribución normal de $p(x|y)$"
   ]
  },
  {
   "cell_type": "code",
   "execution_count": null,
   "metadata": {},
   "outputs": [],
   "source": [
    "# Separamos los datos de cada clase\n",
    "setosa_feature = xfeature_original[:50]\n",
    "versicolor_feature = xfeature_original[51:100]\n",
    "virginica_feature = xfeature_original[101:150]"
   ]
  },
  {
   "cell_type": "markdown",
   "metadata": {},
   "source": [
    "Calcule la media y la desviación estándar para cada valor de $y$."
   ]
  },
  {
   "cell_type": "code",
   "execution_count": null,
   "metadata": {},
   "outputs": [],
   "source": []
  },
  {
   "cell_type": "markdown",
   "metadata": {},
   "source": [
    "Utilice la función *normal* de *np.random* para realizar una muestra sobre cada distribución normal."
   ]
  },
  {
   "cell_type": "code",
   "execution_count": null,
   "metadata": {},
   "outputs": [],
   "source": []
  },
  {
   "cell_type": "markdown",
   "metadata": {},
   "source": [
    "Utilizando las muestras grafique la aproximación a distribuciones normales de *p (x | y)*."
   ]
  },
  {
   "cell_type": "code",
   "execution_count": null,
   "metadata": {},
   "outputs": [],
   "source": []
  },
  {
   "cell_type": "markdown",
   "metadata": {},
   "source": [
    "Compare esta gráfica con la gráfica de *p(x|y)* original."
   ]
  },
  {
   "cell_type": "markdown",
   "metadata": {},
   "source": [
    "### Graficamos la mezcla de Gaussianas."
   ]
  },
  {
   "cell_type": "markdown",
   "metadata": {},
   "source": [
    "Grafique la mezcla de Gaussianas."
   ]
  },
  {
   "cell_type": "code",
   "execution_count": null,
   "metadata": {},
   "outputs": [],
   "source": []
  },
  {
   "cell_type": "markdown",
   "metadata": {},
   "source": [
    "Compare esta gráfica con la gráfica de *p(x|y)* usando distribuciones normales."
   ]
  },
  {
   "cell_type": "markdown",
   "metadata": {},
   "source": [
    "### Opcional: Aproxime $p(y|x)$ y realice una muestra de 10 valores de $y$ con $x = 4.75$"
   ]
  },
  {
   "cell_type": "code",
   "execution_count": null,
   "metadata": {},
   "outputs": [],
   "source": []
  }
 ],
 "metadata": {
  "kernelspec": {
   "display_name": "taller_dl",
   "language": "python",
   "name": "python3"
  },
  "language_info": {
   "codemirror_mode": {
    "name": "ipython",
    "version": 3
   },
   "file_extension": ".py",
   "mimetype": "text/x-python",
   "name": "python",
   "nbconvert_exporter": "python",
   "pygments_lexer": "ipython3",
   "version": "3.10.12"
  }
 },
 "nbformat": 4,
 "nbformat_minor": 2
}
